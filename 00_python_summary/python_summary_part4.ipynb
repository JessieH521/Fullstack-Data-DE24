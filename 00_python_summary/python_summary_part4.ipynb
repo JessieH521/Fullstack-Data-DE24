{
 "cells": [
  {
   "cell_type": "markdown",
   "metadata": {},
   "source": [
    "# python_summary_part 4\n",
    "\n",
    "- Matplotlib\n",
    "- Numpy\n",
    "- File handing\n",
    "- Data time"
   ]
  },
  {
   "cell_type": "markdown",
   "metadata": {},
   "source": [
    "## Matplotlib"
   ]
  },
  {
   "cell_type": "code",
   "execution_count": null,
   "metadata": {},
   "outputs": [],
   "source": []
  }
 ],
 "metadata": {
  "language_info": {
   "name": "python"
  }
 },
 "nbformat": 4,
 "nbformat_minor": 2
}
