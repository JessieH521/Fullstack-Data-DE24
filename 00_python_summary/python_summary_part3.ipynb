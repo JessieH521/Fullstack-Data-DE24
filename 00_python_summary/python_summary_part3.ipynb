{
 "cells": [
  {
   "cell_type": "markdown",
   "metadata": {},
   "source": [
    "# python_summary_part3\n",
    "\n",
    "- Error handing\n",
    "- Function\n"
   ]
  },
  {
   "cell_type": "markdown",
   "metadata": {},
   "source": [
    "## Error handing\n",
    "- syntax error\n",
    "- runtime error\n",
    "- logical errors"
   ]
  },
  {
   "cell_type": "code",
   "execution_count": 1,
   "metadata": {},
   "outputs": [
    {
     "ename": "NameError",
     "evalue": "name 'prin' is not defined",
     "output_type": "error",
     "traceback": [
      "\u001b[0;31m---------------------------------------------------------------------------\u001b[0m",
      "\u001b[0;31mNameError\u001b[0m                                 Traceback (most recent call last)",
      "Cell \u001b[0;32mIn[1], line 1\u001b[0m\n\u001b[0;32m----> 1\u001b[0m \u001b[43mprin\u001b[49m(\u001b[38;5;124m\"\u001b[39m\u001b[38;5;124mLinear regression is a supervised learning algorithm.\u001b[39m\u001b[38;5;124m\"\u001b[39m)\n\u001b[1;32m      3\u001b[0m \u001b[38;5;66;03m# 线性回归是一种监督学习算法\u001b[39;00m\n",
      "\u001b[0;31mNameError\u001b[0m: name 'prin' is not defined"
     ]
    }
   ],
   "source": [
    "# syntax error - NameError: name 'prin' is not defined\n",
    "\n",
    "prin(\"Linear regression is a supervised learning algorithm.\")\n",
    "\n",
    "# 线性回归是一种监督学习算法"
   ]
  },
  {
   "cell_type": "code",
   "execution_count": 2,
   "metadata": {},
   "outputs": [
    {
     "data": {
      "text/plain": [
       "[0, 1, 2, 3, 4]"
      ]
     },
     "execution_count": 2,
     "metadata": {},
     "output_type": "execute_result"
    }
   ],
   "source": [
    "# runtime error -IndexError: list index out of range\n",
    "\n",
    "numbers = list(range(5))\n",
    "numbers"
   ]
  },
  {
   "cell_type": "code",
   "execution_count": 3,
   "metadata": {},
   "outputs": [
    {
     "ename": "IndexError",
     "evalue": "list index out of range",
     "output_type": "error",
     "traceback": [
      "\u001b[0;31m---------------------------------------------------------------------------\u001b[0m",
      "\u001b[0;31mIndexError\u001b[0m                                Traceback (most recent call last)",
      "Cell \u001b[0;32mIn[3], line 1\u001b[0m\n\u001b[0;32m----> 1\u001b[0m \u001b[43mnumbers\u001b[49m\u001b[43m[\u001b[49m\u001b[38;5;241;43m10\u001b[39;49m\u001b[43m]\u001b[49m\n",
      "\u001b[0;31mIndexError\u001b[0m: list index out of range"
     ]
    }
   ],
   "source": [
    "numbers[10]"
   ]
  },
  {
   "cell_type": "code",
   "execution_count": 5,
   "metadata": {},
   "outputs": [
    {
     "data": {
      "text/plain": [
       "15.707963267948966"
      ]
     },
     "execution_count": 5,
     "metadata": {},
     "output_type": "execute_result"
    }
   ],
   "source": [
    "# logical errors - 是 r 的平方\n",
    "\n",
    "import numpy as np\n",
    "\n",
    "radius = 5\n",
    "area_circle = np.pi*radius\n",
    "\n",
    "# error: area = pi*radius**2\n",
    "area_circle\n"
   ]
  },
  {
   "cell_type": "markdown",
   "metadata": {},
   "source": [
    "### try-except\n"
   ]
  },
  {
   "cell_type": "code",
   "execution_count": 7,
   "metadata": {},
   "outputs": [
    {
     "ename": "ValueError",
     "evalue": "could not convert string to float: 'hello'",
     "output_type": "error",
     "traceback": [
      "\u001b[0;31m---------------------------------------------------------------------------\u001b[0m",
      "\u001b[0;31mValueError\u001b[0m                                Traceback (most recent call last)",
      "Cell \u001b[0;32mIn[7], line 1\u001b[0m\n\u001b[0;32m----> 1\u001b[0m age \u001b[38;5;241m=\u001b[39m \u001b[38;5;28;43mfloat\u001b[39;49m\u001b[43m(\u001b[49m\u001b[38;5;28;43minput\u001b[39;49m\u001b[43m(\u001b[49m\u001b[38;5;124;43m\"\u001b[39;49m\u001b[38;5;124;43mGive me your age.\u001b[39;49m\u001b[38;5;124;43m\"\u001b[39;49m\u001b[43m)\u001b[49m\u001b[43m)\u001b[49m\n\u001b[1;32m      3\u001b[0m age\n",
      "\u001b[0;31mValueError\u001b[0m: could not convert string to float: 'hello'"
     ]
    }
   ],
   "source": [
    "age = float(input(\"Give me your age.\"))\n",
    "age\n",
    "\n",
    "# ValueError: could not convert string to float: 'hello'"
   ]
  },
  {
   "cell_type": "code",
   "execution_count": 8,
   "metadata": {},
   "outputs": [
    {
     "name": "stdout",
     "output_type": "stream",
     "text": [
      "could not convert string to float: 'hello'\n"
     ]
    },
    {
     "data": {
      "text/plain": [
       "23.0"
      ]
     },
     "execution_count": 8,
     "metadata": {},
     "output_type": "execute_result"
    }
   ],
   "source": [
    "# 不喜欢看见红色提醒，用try except 不报错但会出现提醒语句\n",
    "try:\n",
    "    age = float(input(\"Give me your age.\"))\n",
    "except ValueError as err:\n",
    "    print(err)\n",
    "\n",
    "age"
   ]
  },
  {
   "cell_type": "code",
   "execution_count": 3,
   "metadata": {},
   "outputs": [
    {
     "name": "stdout",
     "output_type": "stream",
     "text": [
      "could not convert string to float: 'hello'\n",
      "could not convert string to float: 'zoro'\n",
      "Year must be between 0 and 125\n",
      "You are 34.0 years old.\n"
     ]
    }
   ],
   "source": [
    "while True:\n",
    "    try:\n",
    "        age = float(input(\"Give me your age.\"))\n",
    "        if not 0 <= age <= 125:\n",
    "            raise ValueError(\"Year must be between 0 and 125\")\n",
    "        print(f\"You are {age} years old.\")\n",
    "        break\n",
    "    except ValueError as err:\n",
    "        print(err)\n",
    "\n",
    "        # 1.手动抛出 ValueError 异常。异常信息为 \"Year must be between 0 and 125\" ，自己定义的\n",
    "        # 2.捕获异常：except ValueError as err 会捕获 try 块中抛出的 ValueError 异常。系统自动提示的"
   ]
  },
  {
   "cell_type": "markdown",
   "metadata": {},
   "source": [
    "## Functions\n",
    "\n"
   ]
  },
  {
   "cell_type": "markdown",
   "metadata": {},
   "source": [
    "A function is a reusable block of code that performs a specific task or a set of tasks\n",
    "\n",
    "break down complex program into smaller parts\n",
    "organize code\n",
    "make modular code\n",
    "\n",
    "def name(param1, param2, ...): \n",
    "    statements\n",
    "    ...\n",
    "\n",
    "name(arg1, arg2, ...)"
   ]
  },
  {
   "cell_type": "code",
   "execution_count": 6,
   "metadata": {},
   "outputs": [
    {
     "data": {
      "text/plain": [
       "9"
      ]
     },
     "execution_count": 6,
     "metadata": {},
     "output_type": "execute_result"
    }
   ],
   "source": [
    "# x is input parameter\n",
    "def squarer(x):\n",
    "    return x**2   # return statement\n",
    "\n",
    "squarer(3)"
   ]
  },
  {
   "cell_type": "code",
   "execution_count": 8,
   "metadata": {},
   "outputs": [
    {
     "data": {
      "text/plain": [
       "[0, 1, 4, 9, 16, 25, 36, 49, 64, 81]"
      ]
     },
     "execution_count": 8,
     "metadata": {},
     "output_type": "execute_result"
    }
   ],
   "source": [
    "squarers = [squarers(i) for i in range(10)]\n",
    "squarers"
   ]
  },
  {
   "cell_type": "markdown",
   "metadata": {},
   "source": [
    "### default value"
   ]
  },
  {
   "cell_type": "code",
   "execution_count": 12,
   "metadata": {},
   "outputs": [
    {
     "name": "stdout",
     "output_type": "stream",
     "text": [
      "xoooo\n",
      "xxooo\n",
      "xxxoo\n",
      "xxxxo\n",
      "xxxxx\n"
     ]
    }
   ],
   "source": [
    "def draw_ascii(number_rows=5):\n",
    "    for i in range(1, number_rows + 1):\n",
    "        print(i * \"x\" + (number_rows - i) * \"o\")\n",
    "\n",
    "draw_ascii()"
   ]
  },
  {
   "cell_type": "code",
   "execution_count": 13,
   "metadata": {},
   "outputs": [
    {
     "name": "stdout",
     "output_type": "stream",
     "text": [
      "xoooooo\n",
      "xxooooo\n",
      "xxxoooo\n",
      "xxxxooo\n",
      "xxxxxoo\n",
      "xxxxxxo\n",
      "xxxxxxx\n"
     ]
    }
   ],
   "source": [
    "draw_ascii(7)"
   ]
  },
  {
   "cell_type": "code",
   "execution_count": 14,
   "metadata": {},
   "outputs": [
    {
     "name": "stdout",
     "output_type": "stream",
     "text": [
      "xoo\n",
      "xxo\n",
      "xxx\n"
     ]
    }
   ],
   "source": [
    "draw_ascii(number_rows=3)"
   ]
  },
  {
   "cell_type": "markdown",
   "metadata": {},
   "source": [
    "arbitrary arguments  任意参数  *args: tuple 元组形式储存"
   ]
  },
  {
   "cell_type": "markdown",
   "metadata": {},
   "source": [
    "mean_， sum_ ：加下划线是防止区别于python 自带的mean，sum 函数，防止改写。\n",
    "*args 是一个特殊的语法，用于接收可变数量的参数。它将传递给函数的所有位置参数打包成一个 元组，然后赋值给变量 args。\n",
    "在这个例子中，args 将是一个元组。"
   ]
  },
  {
   "cell_type": "code",
   "execution_count": 16,
   "metadata": {},
   "outputs": [
    {
     "name": "stdout",
     "output_type": "stream",
     "text": [
      "(1, 2, 34)\n"
     ]
    }
   ],
   "source": [
    "def mean_(*args):\n",
    "    sum_ = 0\n",
    "    print(args)  # args is a tuple\n",
    "    # for arg in args:\n",
    "\n",
    "mean_(1, 2, 34)"
   ]
  },
  {
   "cell_type": "code",
   "execution_count": 21,
   "metadata": {},
   "outputs": [
    {
     "data": {
      "text/plain": [
       "12.333333333333334"
      ]
     },
     "execution_count": 21,
     "metadata": {},
     "output_type": "execute_result"
    }
   ],
   "source": [
    "def mean_(*args):\n",
    "    sum_ = 0\n",
    "    for arg in args:\n",
    "        sum_ += arg\n",
    "    return sum_/len(args)\n",
    "\n",
    "mean_(1, 2, 34)"
   ]
  },
  {
   "cell_type": "code",
   "execution_count": 22,
   "metadata": {},
   "outputs": [
    {
     "data": {
      "text/plain": [
       "2.0"
      ]
     },
     "execution_count": 22,
     "metadata": {},
     "output_type": "execute_result"
    }
   ],
   "source": [
    "mean_(1, 2, 3)"
   ]
  },
  {
   "cell_type": "markdown",
   "metadata": {},
   "source": [
    "keyword arguments *kwargs： 字典形式储存"
   ]
  },
  {
   "cell_type": "markdown",
   "metadata": {},
   "source": [
    "*kwargs 是一种特殊的语法，用于接收不定数量的关键字参数（即以键值对的形式传递的参数）。\n",
    "与 *args 接收位置参数不同，**kwargs 会将所有传递的关键字参数打包成一个 字典 (dictionary)。\n",
    "np.random.randint 用于生成随机整数，size 参数定义了结果数组的形状。\n",
    "size=(throws, dices)：\n",
    "throws 是数组的行数，即有多少次掷骰子的记录。\n",
    "dices 是数组的列数，即每次掷骰子时有多少颗骰子"
   ]
  },
  {
   "cell_type": "code",
   "execution_count": 27,
   "metadata": {},
   "outputs": [
    {
     "name": "stdout",
     "output_type": "stream",
     "text": [
      "[[1 4]]\n"
     ]
    }
   ],
   "source": [
    "import numpy as np\n",
    "\n",
    "def simulate_dices(throws=1, dices=2):\n",
    "    print(np.random.randint(1, 7, size=(throws, dices)))\n",
    "\n",
    "\n",
    "# default argements\n",
    "simulate_dices()"
   ]
  },
  {
   "cell_type": "code",
   "execution_count": 28,
   "metadata": {},
   "outputs": [
    {
     "name": "stdout",
     "output_type": "stream",
     "text": [
      "[[1 5 6 3]\n",
      " [4 1 4 5]\n",
      " [5 4 4 4]\n",
      " [6 3 5 5]\n",
      " [3 4 5 4]\n",
      " [6 1 1 3]\n",
      " [5 4 5 5]\n",
      " [5 1 4 6]\n",
      " [5 3 1 4]\n",
      " [5 2 2 1]]\n"
     ]
    }
   ],
   "source": [
    "simulate_dices(10, 4)"
   ]
  },
  {
   "cell_type": "code",
   "execution_count": 29,
   "metadata": {},
   "outputs": [
    {
     "name": "stdout",
     "output_type": "stream",
     "text": [
      "[[4 1]\n",
      " [5 5]\n",
      " [6 5]\n",
      " [6 1]\n",
      " [6 2]]\n"
     ]
    }
   ],
   "source": [
    "simulate_dices(throws=5)"
   ]
  },
  {
   "cell_type": "code",
   "execution_count": 30,
   "metadata": {},
   "outputs": [
    {
     "name": "stdout",
     "output_type": "stream",
     "text": [
      "[[3 5 2]]\n"
     ]
    }
   ],
   "source": [
    "simulate_dices(dices=3)"
   ]
  },
  {
   "cell_type": "code",
   "execution_count": 31,
   "metadata": {},
   "outputs": [
    {
     "name": "stdout",
     "output_type": "stream",
     "text": [
      "[[4 4 1]\n",
      " [2 5 1]\n",
      " [4 4 1]\n",
      " [3 1 6]\n",
      " [1 5 2]]\n"
     ]
    }
   ],
   "source": [
    "# do not need to follow the positions \n",
    "simulate_dices(dices=3, throws=5)"
   ]
  },
  {
   "cell_type": "markdown",
   "metadata": {},
   "source": [
    "### unpacking \n",
    "在 Python 中，** 用于字典的解包（unpacking）。\n",
    "\n",
    "一个 * 用于将多个位置参数收集成一个元组，列表 等。\n",
    "两个 ** 用于将字典的键值对收集成函数的命名参数。"
   ]
  },
  {
   "cell_type": "code",
   "execution_count": 32,
   "metadata": {},
   "outputs": [
    {
     "name": "stdout",
     "output_type": "stream",
     "text": [
      "[[3 5 2]\n",
      " [3 6 3]\n",
      " [4 5 4]]\n"
     ]
    }
   ],
   "source": [
    "# unpacking \n",
    "\n",
    "options = {\"dices\":3, \"throws\":3}\n",
    "\n",
    "simulate_dices(**options)\n",
    "\n",
    "# 使用了 **options 语法来解包字典 options，将字典中的键值对作为命名参数传递给函数 simulate_dices。\n",
    "# 等同于 simulate_dices(dices=3, throws=3)"
   ]
  },
  {
   "cell_type": "code",
   "execution_count": 33,
   "metadata": {},
   "outputs": [
    {
     "name": "stdout",
     "output_type": "stream",
     "text": [
      "[[2 2 6 3 4]]\n"
     ]
    }
   ],
   "source": [
    "option_list = [1, 5]\n",
    "\n",
    "simulate_dices(*option_list)"
   ]
  },
  {
   "cell_type": "markdown",
   "metadata": {},
   "source": [
    "### lambda functions\n",
    "\n",
    "lambda functions: anonymous 匿名函数\n",
    "do not need to create this function beforehand(事先的), instead I can use the anonymous function."
   ]
  },
  {
   "cell_type": "code",
   "execution_count": 34,
   "metadata": {},
   "outputs": [
    {
     "data": {
      "text/plain": [
       "27"
      ]
     },
     "execution_count": 34,
     "metadata": {},
     "output_type": "execute_result"
    }
   ],
   "source": [
    "# def f(x):\n",
    "#   return x**3  x power 3\n",
    "f = lambda x: x**3 \n",
    "f(3)"
   ]
  },
  {
   "cell_type": "code",
   "execution_count": 35,
   "metadata": {},
   "outputs": [
    {
     "data": {
      "text/plain": [
       "[('Alice', 85), ('Bob', 92), ('Charlie', 78), ('David', 95)]"
      ]
     },
     "execution_count": 35,
     "metadata": {},
     "output_type": "execute_result"
    }
   ],
   "source": [
    "students = [(\"Bob\", 92), (\"Charlie\", 78), (\"David\", 95), (\"Alice\", 85)]\n",
    "\n",
    "students"
   ]
  },
  {
   "cell_type": "code",
   "execution_count": 36,
   "metadata": {},
   "outputs": [
    {
     "data": {
      "text/plain": [
       "[('Alice', 85), ('Bob', 92), ('Charlie', 78), ('David', 95)]"
      ]
     },
     "execution_count": 36,
     "metadata": {},
     "output_type": "execute_result"
    }
   ],
   "source": [
    "# sort 默认第一个，按名字排列 name\n",
    "sorted(students)"
   ]
  },
  {
   "cell_type": "code",
   "execution_count": 40,
   "metadata": {},
   "outputs": [
    {
     "data": {
      "text/plain": [
       "[('Charlie', 78), ('Alice', 85), ('Bob', 92), ('David', 95)]"
      ]
     },
     "execution_count": 40,
     "metadata": {},
     "output_type": "execute_result"
    }
   ],
   "source": [
    "# 想按照成绩排序 score\n",
    "sorted(students, key=lambda students: students[1])\n"
   ]
  },
  {
   "cell_type": "code",
   "execution_count": 39,
   "metadata": {},
   "outputs": [
    {
     "data": {
      "text/plain": [
       "[('David', 95), ('Bob', 92), ('Alice', 85), ('Charlie', 78)]"
      ]
     },
     "execution_count": 39,
     "metadata": {},
     "output_type": "execute_result"
    }
   ],
   "source": [
    "# reverse=True 倒转排序\n",
    "sorted(students, key=lambda students: students[1], reverse=True)"
   ]
  }
 ],
 "metadata": {
  "kernelspec": {
   "display_name": ".venv",
   "language": "python",
   "name": "python3"
  },
  "language_info": {
   "codemirror_mode": {
    "name": "ipython",
    "version": 3
   },
   "file_extension": ".py",
   "mimetype": "text/x-python",
   "name": "python",
   "nbconvert_exporter": "python",
   "pygments_lexer": "ipython3",
   "version": "3.11.5"
  }
 },
 "nbformat": 4,
 "nbformat_minor": 2
}
