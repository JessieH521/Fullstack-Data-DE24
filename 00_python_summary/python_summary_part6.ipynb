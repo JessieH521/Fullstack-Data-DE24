{
 "cells": [
  {
   "cell_type": "markdown",
   "metadata": {},
   "source": [
    "# python_summary_part 6\n",
    "\n",
    "## OOP inheritance and polymorphism 继承和多态\n",
    "\n",
    "\n"
   ]
  },
  {
   "cell_type": "markdown",
   "metadata": {},
   "source": [
    "## Decorator 装饰器\n",
    "- gives an functionality to a function.\n",
    "- 装饰器 (Decorator) 是 Python 中的一种高级特性，用来在 不改变原函数或类定义的情况下，动态地为函数、方法或类添加额外功能。  \n",
    "装饰器本质上是一个函数，它接受一个函数或类作为输入，并返回一个新的函数或类，增强或修改其行为。"
   ]
  },
  {
   "cell_type": "code",
   "execution_count": 5,
   "metadata": {},
   "outputs": [
    {
     "data": {
      "text/plain": [
       "<__main__.Person at 0x1094f5250>"
      ]
     },
     "execution_count": 5,
     "metadata": {},
     "output_type": "execute_result"
    }
   ],
   "source": [
    "from numbers import Number\n",
    "import re\n",
    "\n",
    "class Person:\n",
    "    \"\"\"base class containing generic methods that are shared by all subclasses,基类包含所有子类共享的通用方法\"\"\"\n",
    "    def __init__(self, name: str, age: int) -> None:\n",
    "        self.name = name\n",
    "        self.age = age\n",
    "\n",
    "    @property\n",
    "    def age(self) -> int:\n",
    "        return self._age\n",
    "    \n",
    "    @age.setter\n",
    "    def age(self, value: int) -> None:\n",
    "        if not isinstance(value, Number):\n",
    "            raise TypeError(f\"Age must be either int or float not {type(value)}\")     \n",
    "        self._age = value\n",
    "\n",
    "        if not (0 < value < 125):\n",
    "            raise ValueError(f\"Age must between 1 nd 124, not {value}\")\n",
    "\n",
    "    @ property\n",
    "    def name(self) -> str:\n",
    "        return self._name\n",
    "\n",
    "    @name.setter\n",
    "    def name(self, value: str) -> None:\n",
    "        # (stard with letter A-ö + space + A-ö) could have several，字符串必须以字母开头，允许包含一个可选的空格和第二个单词。整个字符串只能包含这些内容，没有多余的字符或空格。re.search() 会返回匹配的结果，如果没有找到匹配的内容，则返回 None，抛出 ValueError\n",
    "        # value.strip()：移除字符串两端的空格\n",
    "        if re.search(r\"^[A-ö]+(\\s[A-ö]+)?$\", value.strip()) is None:\n",
    "            raise ValueError(f\"The value {value} is not a valid name\")\n",
    "        \n",
    "        self._name = value\n",
    "\n",
    "    def say_hi(self) -> None:\n",
    "        print(f\"{self.name} says hello\")\n",
    "\n",
    "p1 = Person(\"Jie\", 18)\n",
    "p1\n"
   ]
  },
  {
   "cell_type": "markdown",
   "metadata": {},
   "source": [
    "## Inheritance 继承"
   ]
  },
  {
   "cell_type": "code",
   "execution_count": 8,
   "metadata": {},
   "outputs": [
    {
     "name": "stdout",
     "output_type": "stream",
     "text": [
      "Age must between 1 nd 124, not 126\n"
     ]
    }
   ],
   "source": [
    "class Student(Person):\n",
    "    def __init__(self, name: str, age: int, studies: str) -> None:\n",
    "        super().__init__(name, age)\n",
    "        self.studies = studies\n",
    "\n",
    "try:\n",
    "    s1 = Student(\"Anna\", 126, \"AI\")\n",
    "except ValueError as err:\n",
    "    print(err)"
   ]
  },
  {
   "cell_type": "code",
   "execution_count": 12,
   "metadata": {},
   "outputs": [
    {
     "name": "stdout",
     "output_type": "stream",
     "text": [
      "The value Anna  HH is not a valid name\n"
     ]
    }
   ],
   "source": [
    "try:\n",
    "    s1 = Student(\"Anna  HH\", 26, \"AI\")\n",
    "except ValueError as err:\n",
    "    print(err)"
   ]
  },
  {
   "cell_type": "code",
   "execution_count": 16,
   "metadata": {},
   "outputs": [
    {
     "data": {
      "text/plain": [
       "(70, 'Data science')"
      ]
     },
     "execution_count": 16,
     "metadata": {},
     "output_type": "execute_result"
    }
   ],
   "source": [
    "s2 = Student(\"Uncle Ben\", 70, \"Data science\")\n",
    "s2.age, s2.studies"
   ]
  },
  {
   "cell_type": "code",
   "execution_count": 18,
   "metadata": {},
   "outputs": [
    {
     "data": {
      "text/plain": [
       "<__main__.Teacher at 0x109509890>"
      ]
     },
     "execution_count": 18,
     "metadata": {},
     "output_type": "execute_result"
    }
   ],
   "source": [
    "class Teacher(Person):\n",
    "    def __init__(self, name: str, age: int, teaches: str) -> None:\n",
    "        super().__init__(name, age)\n",
    "        self.teaches = teaches\n",
    "\n",
    "    def say_hi(self) -> None:\n",
    "        print(f\"Teacher {self.name} teaches {self.teaches}\")\n",
    "\n",
    "t1 = Teacher(\"Kokchun\", 18, \"AI\")\n",
    "t1"
   ]
  },
  {
   "cell_type": "markdown",
   "metadata": {},
   "source": [
    "## Polymorphism 多态性"
   ]
  },
  {
   "cell_type": "code",
   "execution_count": 19,
   "metadata": {},
   "outputs": [
    {
     "data": {
      "text/plain": [
       "(<__main__.Teacher at 0x109509890>, <__main__.Student at 0x109b702d0>)"
      ]
     },
     "execution_count": 19,
     "metadata": {},
     "output_type": "execute_result"
    }
   ],
   "source": [
    "people = t1, s2\n",
    "people"
   ]
  },
  {
   "cell_type": "code",
   "execution_count": 22,
   "metadata": {},
   "outputs": [
    {
     "name": "stdout",
     "output_type": "stream",
     "text": [
      "Teacher Kokchun teaches AI\n",
      "Uncle Ben says hello\n"
     ]
    }
   ],
   "source": [
    "for person in people:\n",
    "    person.say_hi()"
   ]
  },
  {
   "cell_type": "code",
   "execution_count": 23,
   "metadata": {},
   "outputs": [
    {
     "data": {
      "text/plain": [
       "3"
      ]
     },
     "execution_count": 23,
     "metadata": {},
     "output_type": "execute_result"
    }
   ],
   "source": [
    "len([1, 2, 3])"
   ]
  },
  {
   "cell_type": "code",
   "execution_count": 24,
   "metadata": {},
   "outputs": [
    {
     "data": {
      "text/plain": [
       "5"
      ]
     },
     "execution_count": 24,
     "metadata": {},
     "output_type": "execute_result"
    }
   ],
   "source": [
    "len(\"hello\")"
   ]
  },
  {
   "cell_type": "code",
   "execution_count": 25,
   "metadata": {},
   "outputs": [
    {
     "data": {
      "text/plain": [
       "'hellohellohellohellohello'"
      ]
     },
     "execution_count": 25,
     "metadata": {},
     "output_type": "execute_result"
    }
   ],
   "source": [
    "\"hello\" * 5"
   ]
  },
  {
   "cell_type": "markdown",
   "metadata": {},
   "source": [
    "## Operator Overloading  运算符重载"
   ]
  },
  {
   "cell_type": "markdown",
   "metadata": {},
   "source": [
    "- positional arguments 位置参数\n",
    "- validation 验证\n",
    "- generated expression 生成的表达式                 \n",
    "           \n",
    "            \n",
    "- *numbers：表示 __init__ 方法可以接受任意多个参数，这些参数会被收集到一个 元组 (tuple) 中，例如： v = Vector(1, 2, 3.5, 4)\n",
    "- 遍历 numbers 中的每个元素，对每个 number 进行验证，检查 number 是否是 Number 类型的实例。不是数字类型，就会抛出 TypeError。\n",
    "- self._numbers = tuple(float(number) for number in numbers)：将 numbers 中的每个元素都转化为浮点数，并保存为一个不可变的元组 (tuple)。"
   ]
  },
  {
   "cell_type": "code",
   "execution_count": 26,
   "metadata": {},
   "outputs": [
    {
     "data": {
      "text/plain": [
       "<__main__.Vector at 0x1094a1e50>"
      ]
     },
     "execution_count": 26,
     "metadata": {},
     "output_type": "execute_result"
    }
   ],
   "source": [
    "from numbers import Number\n",
    "\n",
    "class Vector:\n",
    "    def __init__(self, *numbers: float) -> None:\n",
    "        for number in numbers:\n",
    "            if not isinstance(number, Number):\n",
    "                raise TypeError(f\"{number} id not valid element in Vector\")\n",
    "            \n",
    "        self._numbers = tuple(float(number) for number in numbers)\n",
    "\n",
    "    @property\n",
    "    def numbers(self) -> tuple:\n",
    "        return self._numbers\n",
    "    \n",
    "v1 =Vector(2, 3)\n",
    "v1"
   ]
  },
  {
   "cell_type": "code",
   "execution_count": 27,
   "metadata": {},
   "outputs": [
    {
     "data": {
      "text/plain": [
       "(2.0, 3.0)"
      ]
     },
     "execution_count": 27,
     "metadata": {},
     "output_type": "execute_result"
    }
   ],
   "source": [
    "v1.numbers"
   ]
  },
  {
   "cell_type": "code",
   "execution_count": 38,
   "metadata": {},
   "outputs": [
    {
     "data": {
      "text/plain": [
       "(Vector(2.0, 3.0), 2, 3.0)"
      ]
     },
     "execution_count": 38,
     "metadata": {},
     "output_type": "execute_result"
    }
   ],
   "source": [
    "from numbers import Number\n",
    "\n",
    "class Vector:\n",
    "    def __init__(self, *numbers: float) -> None:\n",
    "        for number in numbers:\n",
    "            if not isinstance(number, Number):\n",
    "                raise TypeError(f\"{number} id not valid element in Vector\")\n",
    "            \n",
    "        self._numbers = tuple(float(number) for number in numbers)\n",
    "\n",
    "    @property\n",
    "    def numbers(self) -> tuple:\n",
    "        return self._numbers\n",
    "    \n",
    "    def __repr__(self) -> str:\n",
    "        return f\"Vector{self.numbers}\"\n",
    "\n",
    "    # Operator Overloading 运算符重载\n",
    "    def __len__(self) -> int:\n",
    "        return len(self.numbers)\n",
    "\n",
    "    def __getitem__(self, item: int) -> float:\n",
    "        return self.numbers[item]\n",
    "\n",
    "    def __add__(self, other:Vector) -> Vector:\n",
    "        # validate that other also is a vector and has same lenth  验证其他也是向量并且具有相同的长度 \n",
    "        numbers = (a+b for a, b in zip(self.numbers, other.numbers)) \n",
    "        return Vector(*numbers)\n",
    " \n",
    "\n",
    "v1 = Vector(2, 3)\n",
    "v1, len(v1), v1[1] \n",
    "\n",
    "\n",
    "\n",
    "# 1. 在 Python 中，当你尝试使用 len() 函数获取自定义对象的长度时（比如 len(v1)），这个对象需要实现特殊方法 __len__。如果不实现这个方法，调用 len() 会报错。\n",
    "# 2. 如果你想要像下标（[]）一样访问对象的元素（例如 v1[0]），你需要实现 __getitem__ 方法。如果没有这个方法，尝试使用下标访问对象时，会抛出 TypeError。\n",
    "# 3. 当你想运行加法+运算时，需要调用 __add__ 方法。因此，当你执行 v1 + v2 时，Python 会自动调用 v1.__add__(v2) 来处理加法运算。\n",
    "# self.numbers 和 other.numbers 都是 Vector 对象的元素序列（通常是一个元组或列表）。\n",
    "# zip(self.numbers, other.numbers) 会将这两个序列中的元素配对，生成一个包含元组的迭代器，每个元组包含 self.numbers 和 other.numbers 中对应位置的元素。\n",
    "# 假设 v1.numbers = (1, 2) 和 v2.numbers = (2, 3)，那么 zip(self.numbers, other.numbers) 会生成 [(1, 2), (2, 3)]"
   ]
  },
  {
   "cell_type": "code",
   "execution_count": 42,
   "metadata": {},
   "outputs": [
    {
     "data": {
      "text/plain": [
       "Vector(4.0, 6.0)"
      ]
     },
     "execution_count": 42,
     "metadata": {},
     "output_type": "execute_result"
    }
   ],
   "source": [
    "v2 = Vector(2, 3)\n",
    "v1 + v2\n",
    "\n",
    "\n",
    "# subtraction 减法, commutative multiplication 交换乘法"
   ]
  }
 ],
 "metadata": {
  "kernelspec": {
   "display_name": ".venv",
   "language": "python",
   "name": "python3"
  },
  "language_info": {
   "codemirror_mode": {
    "name": "ipython",
    "version": 3
   },
   "file_extension": ".py",
   "mimetype": "text/x-python",
   "name": "python",
   "nbconvert_exporter": "python",
   "pygments_lexer": "ipython3",
   "version": "3.11.5"
  }
 },
 "nbformat": 4,
 "nbformat_minor": 2
}
